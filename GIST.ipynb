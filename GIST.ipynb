{
 "cells": [
  {
   "cell_type": "code",
   "execution_count": 1,
   "metadata": {
    "collapsed": false
   },
   "outputs": [
    {
     "data": {
      "application/javascript": [
       "IPython.notebook.set_autosave_interval(15000)"
      ]
     },
     "metadata": {},
     "output_type": "display_data"
    },
    {
     "name": "stdout",
     "output_type": "stream",
     "text": [
      "Autosaving every 15 seconds\n"
     ]
    }
   ],
   "source": [
    "%matplotlib inline\n",
    "%load_ext autoreload\n",
    "%autoreload 10\n",
    "%autosave 15\n",
    "\n",
    "import os\n",
    "import pickle\n",
    "import sklearn as sk\n",
    "import scipy as sp\n",
    "import pandas as pd\n",
    "import numpy as np\n",
    "import matplotlib.pyplot as plt\n",
    "from scipy.stats import randint\n",
    "\n",
    "from sklearn.cross_validation import train_test_split\n",
    "from sklearn.preprocessing import MinMaxScaler\n",
    "from sklearn.svm import SVC\n",
    "from sklearn.linear_model import LogisticRegression\n",
    "from sklearn.ensemble import RandomForestClassifier, AdaBoostClassifier, GradientBoostingClassifier, ExtraTreesClassifier\n",
    "from sklearn.neighbors import KNeighborsClassifier\n",
    "from sklearn.tree import DecisionTreeClassifier\n",
    "\n",
    "from sklearn.grid_search import GridSearchCV, RandomizedSearchCV"
   ]
  },
  {
   "cell_type": "code",
   "execution_count": 2,
   "metadata": {
    "collapsed": false
   },
   "outputs": [],
   "source": [
    "def save_model(model, path):\n",
    "    best_model = model.best_estimator_\n",
    "    best_params = model.best_params_\n",
    "    best_mean = model.best_score_\n",
    "    best_std = 0\n",
    "    \n",
    "    for _, mean, cv_means in model.grid_scores_:\n",
    "        if abs(mean - best_mean) <= 1e-10:\n",
    "            best_std = np.std(cv_means)\n",
    "    \n",
    "    pickle.dump([best_model, best_params, best_mean, best_std], open(path + \"/\" + model.best_estimator_.__class__.__name__, 'wb'))\n",
    "\n",
    "def load_model(path):\n",
    "    \n",
    "    return pickle.load(open(path, 'rb'))"
   ]
  },
  {
   "cell_type": "code",
   "execution_count": 3,
   "metadata": {
    "collapsed": true
   },
   "outputs": [],
   "source": [
    "DATA = \"./gist.csv\"\n",
    "\n",
    "gist = pd.read_csv(DATA, sep=' ', header=None)\n",
    "\n",
    "target = np.array(gist[960])\n",
    "data = MinMaxScaler().fit_transform(gist.drop(960, axis=1))"
   ]
  },
  {
   "cell_type": "code",
   "execution_count": 4,
   "metadata": {
    "collapsed": false
   },
   "outputs": [
    {
     "name": "stdout",
     "output_type": "stream",
     "text": [
      "(897, 960) (100, 960) (897,) (100,)\n",
      "0.688963210702\n",
      "0.77\n",
      "1.0\n",
      "0.9\n"
     ]
    }
   ],
   "source": [
    "X_train, X_test, y_train, y_test = train_test_split(data, target, test_size=0.1, random_state=23)\n",
    "print(X_train.shape, X_test.shape, y_train.shape, y_test.shape)\n",
    "\n",
    "model = LogisticRegression(C=40)\n",
    "model.fit(X_train, y_train)\n",
    "\n",
    "print(model.score(X_train, y_train))\n",
    "print(model.score(X_test, y_test))\n",
    "\n",
    "model = RandomForestClassifier(n_estimators=250)\n",
    "model.fit(X_train, y_train)\n",
    "\n",
    "print(model.score(X_train, y_train))\n",
    "print(model.score(X_test, y_test))"
   ]
  },
  {
   "cell_type": "code",
   "execution_count": 5,
   "metadata": {
    "collapsed": true
   },
   "outputs": [],
   "source": [
    "# Models and their Parameters\n",
    "\n",
    "lr_params =  {'C': randint(1, 100),\n",
    "             'penalty': ['l1', 'l2']}\n",
    "\n",
    "knn_params =  {\"n_neighbors\": randint(3, 16),\n",
    "              \"p\": randint(1,3),\n",
    "              \"algorithm\": ['kd_tree', 'ball_tree']}\n",
    "\n",
    "dt_params =  {\"max_depth\": randint(1,11),\n",
    "              \"min_samples_split\": randint(1, 11),\n",
    "              \"min_samples_leaf\": randint(1, 11),\n",
    "              \"max_features\": [None, 'log2', 'sqrt'],\n",
    "              \"criterion\": [\"gini\", \"entropy\"]}\n",
    "\n",
    "svm_params =  {\"C\": randint(1,101),\n",
    "              \"kernel\": ['rbf', 'linear', 'poly', 'sigmoid'],\n",
    "              \"degree\": randint(1, 6),\n",
    "               \"shrinking\": [True, False]}\n",
    "\n",
    "rf_params =  {\"n_estimators\": randint(50, 501),\n",
    "              \"max_depth\": randint(1,11),\n",
    "              \"min_samples_split\": randint(1, 11),\n",
    "              \"min_samples_leaf\": randint(1, 11),\n",
    "              \"max_features\": [None, 'log2', 'sqrt'],\n",
    "              \"bootstrap\": [True, False],\n",
    "              \"criterion\": [\"gini\", \"entropy\"]}\n",
    "\n",
    "gbm_params =  {\"n_estimators\": randint(50, 501),\n",
    "              \"max_depth\": randint(1,11),\n",
    "              \"min_samples_split\": randint(1, 11),\n",
    "              \"min_samples_leaf\": randint(1, 11),\n",
    "               \"max_features\": [None, 'log2', 'sqrt'],\n",
    "              \"subsample\": [0.7, 0.8, 0.9, 1.0],\n",
    "              \"criterion\": [\"gini\", \"entropy\"]}\n",
    "\n",
    "\n",
    "models = [LogisticRegression(),\n",
    "          KNeighborsClassifier(),\n",
    "          DecisionTreeClassifier(),\n",
    "          SVC(),\n",
    "          RandomForestClassifier(),\n",
    "          GradientBoostingClassifier()]\n",
    "\n",
    "params = [lr_params, knn_params, dt_params, svm_params, rf_params, gbm_params]"
   ]
  },
  {
   "cell_type": "code",
   "execution_count": null,
   "metadata": {
    "collapsed": false
   },
   "outputs": [
    {
     "name": "stdout",
     "output_type": "stream",
     "text": [
      "Fitting 10 folds for each of 500 candidates, totalling 5000 fits\n",
      "[CV] penalty=l2, C=32 ................................................\n",
      "[CV] ....................................... penalty=l2, C=32 -   2.1s\n",
      "[CV] penalty=l2, C=32 ................................................\n",
      "[CV] ....................................... penalty=l2, C=32 -   1.5s\n",
      "[CV] penalty=l2, C=32 ................................................\n",
      "[CV] ....................................... penalty=l2, C=32 -   1.5s"
     ]
    }
   ],
   "source": [
    "for model, parameters in zip(models, params):\n",
    "    clf = RandomizedSearchCV(model, param_distributions=parameters, n_iter=500, cv=10, verbose=2)\n",
    "    clf.fit(data, np.array(target))\n",
    "    \n",
    "    save_model(clf, \".\")"
   ]
  },
  {
   "cell_type": "code",
   "execution_count": 195,
   "metadata": {
    "collapsed": false
   },
   "outputs": [],
   "source": [
    "# model, _, mean, std = load_model('./RandomForestClassifier')"
   ]
  }
 ],
 "metadata": {
  "kernelspec": {
   "display_name": "Python 3",
   "language": "python",
   "name": "python3"
  },
  "language_info": {
   "codemirror_mode": {
    "name": "ipython",
    "version": 3
   },
   "file_extension": ".py",
   "mimetype": "text/x-python",
   "name": "python",
   "nbconvert_exporter": "python",
   "pygments_lexer": "ipython3",
   "version": "3.4.3"
  }
 },
 "nbformat": 4,
 "nbformat_minor": 0
}
